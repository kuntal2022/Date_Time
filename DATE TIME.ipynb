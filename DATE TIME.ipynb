{
 "cells": [
  {
   "cell_type": "code",
   "execution_count": 2,
   "id": "8e0f531d-3b8b-4bb4-9f88-a616e99227a5",
   "metadata": {},
   "outputs": [],
   "source": [
    "import pandas as pd\n",
    "import numpy as np, matplotlib.pyplot as plt, seaborn as sns"
   ]
  },
  {
   "cell_type": "markdown",
   "id": "843f1f77-7d15-4301-939c-7a858f3d93be",
   "metadata": {},
   "source": [
    "# Date Time"
   ]
  },
  {
   "cell_type": "markdown",
   "id": "4a2d0043-3d78-40ee-b09a-bee6c5df7812",
   "metadata": {},
   "source": [
    "# 1.Conversion of string to Timestamp"
   ]
  },
  {
   "cell_type": "code",
   "execution_count": 3,
   "id": "3717c065-8362-484c-8a19-41b393577895",
   "metadata": {},
   "outputs": [
    {
     "name": "stdout",
     "output_type": "stream",
     "text": [
      "Type of 2020-02-01 is ::<class 'str'>\n",
      "\n",
      "2020-02-01 00:00:00\n",
      "\n",
      "New type of is\n",
      "<class 'pandas._libs.tslibs.timestamps.Timestamp'>\n"
     ]
    }
   ],
   "source": [
    "string_to_convert = '2020-02-01'\n",
    "\n",
    "t=type(string_to_convert)\n",
    "print(f'Type of {string_to_convert} is ::{t}')\n",
    "\n",
    "print()\n",
    "\n",
    "converted=pd.to_datetime(string_to_convert)\n",
    "print(converted)\n",
    "print()\n",
    "print(\"New type of is\")\n",
    "print(type(converted))\n",
    "\n",
    "\n"
   ]
  },
  {
   "cell_type": "markdown",
   "id": "bcd2fd0f-121d-49fc-9bb3-c54301456443",
   "metadata": {},
   "source": [
    "# 2. Conversion of pd columns or series to Timestamp"
   ]
  },
  {
   "cell_type": "code",
   "execution_count": 42,
   "id": "bacd7871-7be5-4355-93a9-4c79a00ce6f1",
   "metadata": {},
   "outputs": [
    {
     "data": {
      "text/plain": [
       "0    2020-02-01\n",
       "1    2020-02-02\n",
       "2    2020-02-03\n",
       "3    2020-02-04\n",
       "dtype: object"
      ]
     },
     "execution_count": 42,
     "metadata": {},
     "output_type": "execute_result"
    }
   ],
   "source": [
    "s = pd.Series(['2020-02-01',\n",
    "               '2020-02-02',\n",
    "               '2020-02-03',\n",
    "               '2020-02-04'])\n",
    "ss= pd.DataFrame({\"date\":['2020-02-01',\n",
    "               '2020-02-02',\n",
    "               '2020-02-03',\n",
    "               '2023-02-04']})\n",
    "s"
   ]
  },
  {
   "cell_type": "code",
   "execution_count": 43,
   "id": "a3dea007",
   "metadata": {},
   "outputs": [
    {
     "data": {
      "text/html": [
       "<div>\n",
       "<style scoped>\n",
       "    .dataframe tbody tr th:only-of-type {\n",
       "        vertical-align: middle;\n",
       "    }\n",
       "\n",
       "    .dataframe tbody tr th {\n",
       "        vertical-align: top;\n",
       "    }\n",
       "\n",
       "    .dataframe thead th {\n",
       "        text-align: right;\n",
       "    }\n",
       "</style>\n",
       "<table border=\"1\" class=\"dataframe\">\n",
       "  <thead>\n",
       "    <tr style=\"text-align: right;\">\n",
       "      <th></th>\n",
       "      <th>date</th>\n",
       "    </tr>\n",
       "  </thead>\n",
       "  <tbody>\n",
       "    <tr>\n",
       "      <th>0</th>\n",
       "      <td>2020-02-01</td>\n",
       "    </tr>\n",
       "    <tr>\n",
       "      <th>1</th>\n",
       "      <td>2020-02-02</td>\n",
       "    </tr>\n",
       "    <tr>\n",
       "      <th>2</th>\n",
       "      <td>2020-02-03</td>\n",
       "    </tr>\n",
       "    <tr>\n",
       "      <th>3</th>\n",
       "      <td>2023-02-04</td>\n",
       "    </tr>\n",
       "  </tbody>\n",
       "</table>\n",
       "</div>"
      ],
      "text/plain": [
       "         date\n",
       "0  2020-02-01\n",
       "1  2020-02-02\n",
       "2  2020-02-03\n",
       "3  2023-02-04"
      ]
     },
     "execution_count": 43,
     "metadata": {},
     "output_type": "execute_result"
    }
   ],
   "source": [
    "ss"
   ]
  },
  {
   "cell_type": "markdown",
   "id": "a0ade3b6-7993-4c42-86ce-2bd6db2b9b36",
   "metadata": {},
   "source": [
    "Here the dtype is obeject lets check down"
   ]
  },
  {
   "cell_type": "markdown",
   "id": "eb39570c",
   "metadata": {},
   "source": [
    "# DateTimeIndex()"
   ]
  },
  {
   "cell_type": "code",
   "execution_count": 44,
   "id": "abe1cf1d",
   "metadata": {},
   "outputs": [
    {
     "name": "stdout",
     "output_type": "stream",
     "text": [
      "0    1\n",
      "1    2\n",
      "2    3\n",
      "3    4\n",
      "Name: date, dtype: int64\n"
     ]
    }
   ],
   "source": [
    "# extracting day\n",
    "print(pd.Series(pd.DatetimeIndex(ss[\"date\"]).day))"
   ]
  },
  {
   "cell_type": "code",
   "execution_count": 45,
   "id": "50bdbca3",
   "metadata": {},
   "outputs": [
    {
     "name": "stdout",
     "output_type": "stream",
     "text": [
      "0    2\n",
      "1    2\n",
      "2    2\n",
      "3    2\n",
      "Name: date, dtype: int64\n"
     ]
    }
   ],
   "source": [
    "#extracting day month\n",
    "\n",
    "print(pd.Series(pd.DatetimeIndex(ss[\"date\"]).month))"
   ]
  },
  {
   "cell_type": "code",
   "execution_count": 46,
   "id": "c601859c",
   "metadata": {},
   "outputs": [
    {
     "name": "stdout",
     "output_type": "stream",
     "text": [
      "0    2020\n",
      "1    2020\n",
      "2    2020\n",
      "3    2023\n",
      "Name: date, dtype: int64\n"
     ]
    }
   ],
   "source": [
    "#extracting day year\n",
    "\n",
    "print(pd.Series(pd.DatetimeIndex(ss[\"date\"]).year))"
   ]
  },
  {
   "cell_type": "markdown",
   "id": "023337d7-1471-4937-9753-bf102887ac50",
   "metadata": {},
   "source": [
    "Here the dtype datetime64"
   ]
  },
  {
   "cell_type": "markdown",
   "id": "606c175a-f7e3-461f-9837-1cc618651ff4",
   "metadata": {},
   "source": [
    "It is very much important to change the format \n",
    "before performing any operation in datetime columns"
   ]
  },
  {
   "cell_type": "markdown",
   "id": "4f25a595-afb9-4020-97d5-afd24bf8d77f",
   "metadata": {},
   "source": [
    "# 3.Convert Pandas Series to datetime w/ custom format"
   ]
  },
  {
   "cell_type": "markdown",
   "id": "ad7da44e-1966-4efa-96df-7b13a8afbf8a",
   "metadata": {},
   "source": [
    "Say you have a messy string with a date inside and you need to convert it to a date. You need to tell pandas how to convert it and this is done via format codes."
   ]
  },
  {
   "cell_type": "code",
   "execution_count": 5,
   "id": "51fd5ac5-735d-425d-a9c5-b530ce00848c",
   "metadata": {},
   "outputs": [
    {
     "data": {
      "text/plain": [
       "0    My 3date is 01199002\n",
       "1    My 3date is 02199015\n",
       "2    My 3date is 03199020\n",
       "3    My 3date is 09199204\n",
       "dtype: object"
      ]
     },
     "execution_count": 5,
     "metadata": {},
     "output_type": "execute_result"
    }
   ],
   "source": [
    "#Example\n",
    "ss = pd.Series(['My 3date is 01199002',\n",
    "           'My 3date is 02199015',\n",
    "           'My 3date is 03199020',\n",
    "           'My 3date is 09199204'])\n",
    "ss"
   ]
  },
  {
   "cell_type": "code",
   "execution_count": 6,
   "id": "fb88c3d6-206f-4b86-81b5-f60fcdb12f89",
   "metadata": {},
   "outputs": [
    {
     "data": {
      "text/plain": [
       "0   1990-01-02\n",
       "1   1990-02-15\n",
       "2   1990-03-20\n",
       "3   1992-09-04\n",
       "dtype: datetime64[ns]"
      ]
     },
     "execution_count": 6,
     "metadata": {},
     "output_type": "execute_result"
    }
   ],
   "source": [
    "#conversion\n",
    "new_date =pd.to_datetime(ss, format=\"My 3date is %m%Y%d\")\n",
    "new_date"
   ]
  },
  {
   "cell_type": "markdown",
   "id": "c8ab7573-e455-4f1f-a553-61552e61ca98",
   "metadata": {},
   "source": [
    "# 4. Extract out Categorical Name of Month or Day"
   ]
  },
  {
   "cell_type": "markdown",
   "id": "7597dc18-7787-4869-b1d8-d1162274c50e",
   "metadata": {},
   "source": [
    "There are some formats are avail to conducts this\n",
    "link"
   ]
  },
  {
   "cell_type": "markdown",
   "id": "ee9ec5b4-5b8d-43df-b04b-388f68be58c1",
   "metadata": {},
   "source": [
    "https://docs.python.org/3/library/datetime.html#strftime-and-strptime-behavior"
   ]
  },
  {
   "cell_type": "markdown",
   "id": "a8ffe05f-d6ed-4d6b-ba67-28f9027a3564",
   "metadata": {},
   "source": [
    "a) Extraction by Month names"
   ]
  },
  {
   "cell_type": "code",
   "execution_count": 9,
   "id": "6f00f4a0-7b9f-42cf-9847-9d4b42f529c1",
   "metadata": {},
   "outputs": [
    {
     "data": {
      "text/plain": [
       "0      January-1990\n",
       "1     February-1990\n",
       "2        March-1990\n",
       "3    September-1992\n",
       "dtype: object"
      ]
     },
     "execution_count": 9,
     "metadata": {},
     "output_type": "execute_result"
    }
   ],
   "source": [
    "month_name=pd.to_datetime(new_date).dt.strftime(\"%B-%Y\") \n",
    "month_name\n",
    "# %B or %b gives name of the month\n"
   ]
  },
  {
   "cell_type": "code",
   "execution_count": 84,
   "id": "5dfd1c0d-b3ec-4677-b004-2b8971829ea4",
   "metadata": {},
   "outputs": [
    {
     "data": {
      "text/plain": [
       "0    01\n",
       "1    02\n",
       "2    03\n",
       "3    09\n",
       "dtype: object"
      ]
     },
     "execution_count": 84,
     "metadata": {},
     "output_type": "execute_result"
    }
   ],
   "source": [
    "month=pd.to_datetime(new_date).dt.strftime(\"%m\")\n",
    "month\n",
    "# %d extract the numerical day"
   ]
  },
  {
   "cell_type": "code",
   "execution_count": 91,
   "id": "32280fbc-b9a7-4190-8d17-41ebf8953d64",
   "metadata": {},
   "outputs": [
    {
     "data": {
      "text/plain": [
       "0     Tuesday\n",
       "1    Thursday\n",
       "2     Tuesday\n",
       "3      Friday\n",
       "dtype: object"
      ]
     },
     "execution_count": 91,
     "metadata": {},
     "output_type": "execute_result"
    }
   ],
   "source": [
    "day=pd.to_datetime(new_date).dt.strftime('%A')\n",
    "day\n",
    "# %A or %a gives categorical day"
   ]
  },
  {
   "cell_type": "code",
   "execution_count": 95,
   "id": "471985b2-1503-46e1-aa92-ecba0c9e3cb3",
   "metadata": {},
   "outputs": [
    {
     "data": {
      "text/plain": [
       "0     02 -------- > Tuesday\n",
       "1    15 -------- > Thursday\n",
       "2     20 -------- > Tuesday\n",
       "3      04 -------- > Friday\n",
       "dtype: object"
      ]
     },
     "execution_count": 95,
     "metadata": {},
     "output_type": "execute_result"
    }
   ],
   "source": [
    "day_numerical=pd.to_datetime(new_date).dt.strftime(\"%d -------- > %A\")\n",
    "day_numerical"
   ]
  },
  {
   "cell_type": "code",
   "execution_count": 100,
   "id": "d50b6c2f-cb00-4cb8-a334-9ed5496e07fd",
   "metadata": {},
   "outputs": [
    {
     "data": {
      "text/plain": [
       "0    1990\n",
       "1    1990\n",
       "2    1990\n",
       "3    1992\n",
       "dtype: object"
      ]
     },
     "execution_count": 100,
     "metadata": {},
     "output_type": "execute_result"
    }
   ],
   "source": [
    "year=pd.to_datetime(new_date).dt.strftime(\"%Y\")\n",
    "year\n",
    "# %y or % Y returns the numerical year"
   ]
  },
  {
   "cell_type": "code",
   "execution_count": 102,
   "id": "f155f1b6-df40-4b8b-b3d4-584f7756d111",
   "metadata": {},
   "outputs": [
    {
     "data": {
      "text/plain": [
       "0      Tuesday/January/1990\n",
       "1    Thursday/February/1990\n",
       "2        Tuesday/March/1990\n",
       "3     Friday/September/1992\n",
       "dtype: object"
      ]
     },
     "execution_count": 102,
     "metadata": {},
     "output_type": "execute_result"
    }
   ],
   "source": [
    "#together all\n",
    "\n",
    "pd.to_datetime(new_date).dt.strftime(\"%A/%B/%Y\")"
   ]
  },
  {
   "cell_type": "code",
   "execution_count": 104,
   "id": "f8f02e0f-4be5-4b83-8a0b-e0af7b011eaf",
   "metadata": {},
   "outputs": [
    {
     "data": {
      "text/plain": [
       "0    Tue/Jan/90\n",
       "1    Thu/Feb/90\n",
       "2    Tue/Mar/90\n",
       "3    Fri/Sep/92\n",
       "dtype: object"
      ]
     },
     "execution_count": 104,
     "metadata": {},
     "output_type": "execute_result"
    }
   ],
   "source": [
    "# Short form\n",
    "pd.to_datetime(new_date).dt.strftime(\"%a/%b/%y\")"
   ]
  },
  {
   "cell_type": "markdown",
   "id": "3e70f814-e7bd-4305-bd77-c26bc3ef83c6",
   "metadata": {},
   "source": [
    "# Time"
   ]
  },
  {
   "cell_type": "code",
   "execution_count": 105,
   "id": "2cb05085-e953-4fc7-9da9-8ddf2c3787be",
   "metadata": {},
   "outputs": [
    {
     "data": {
      "text/plain": [
       "0   1990-01-02\n",
       "1   1990-02-15\n",
       "2   1990-03-20\n",
       "3   1992-09-04\n",
       "dtype: datetime64[ns]"
      ]
     },
     "execution_count": 105,
     "metadata": {},
     "output_type": "execute_result"
    }
   ],
   "source": [
    "new_date"
   ]
  },
  {
   "cell_type": "code",
   "execution_count": 109,
   "id": "84620ccf-b630-4d2f-aaef-e4e89aee7a7c",
   "metadata": {},
   "outputs": [],
   "source": [
    "Time = pd.Series(['2020-02-01 10:11:30',\n",
    "               '2020-02-02 11:12:25',\n",
    "               '2020-02-03 00:00:00',\n",
    "               '2020-02-04 18:02:21'])"
   ]
  },
  {
   "cell_type": "code",
   "execution_count": 111,
   "id": "78cfe23a-7afd-4ff8-a4d6-3d69bcd434f0",
   "metadata": {},
   "outputs": [
    {
     "data": {
      "text/plain": [
       "0   2020-02-01 10:11:30\n",
       "1   2020-02-02 11:12:25\n",
       "2   2020-02-03 00:00:00\n",
       "3   2020-02-04 18:02:21\n",
       "dtype: datetime64[ns]"
      ]
     },
     "execution_count": 111,
     "metadata": {},
     "output_type": "execute_result"
    }
   ],
   "source": [
    "new_time=pd.to_datetime(Time)\n",
    "new_time"
   ]
  },
  {
   "cell_type": "code",
   "execution_count": 132,
   "id": "db0804d1-0980-4585-a8a9-ace538bee6ad",
   "metadata": {},
   "outputs": [
    {
     "data": {
      "text/plain": [
       "0    10 AM\n",
       "1    11 AM\n",
       "2    00 AM\n",
       "3    18 PM\n",
       "dtype: object"
      ]
     },
     "execution_count": 132,
     "metadata": {},
     "output_type": "execute_result"
    }
   ],
   "source": [
    "pd.to_datetime(new_time).dt.strftime(\"%H %p\")\n",
    "#%H gives Hour\n",
    "# %p gives Am or pm"
   ]
  },
  {
   "cell_type": "code",
   "execution_count": 129,
   "id": "01d8d8d1-75bc-4322-85c3-09fb89e13ac9",
   "metadata": {},
   "outputs": [
    {
     "data": {
      "text/plain": [
       "0    11\n",
       "1    12\n",
       "2    00\n",
       "3    02\n",
       "dtype: object"
      ]
     },
     "execution_count": 129,
     "metadata": {},
     "output_type": "execute_result"
    }
   ],
   "source": [
    "pd.to_datetime(new_time).dt.strftime(\"%M\")\n",
    "#%M gives min"
   ]
  },
  {
   "cell_type": "code",
   "execution_count": 127,
   "id": "f6c4d804-9354-4bc3-b2b0-54eb94e4d854",
   "metadata": {},
   "outputs": [
    {
     "data": {
      "text/plain": [
       "0    30\n",
       "1    25\n",
       "2    00\n",
       "3    21\n",
       "dtype: object"
      ]
     },
     "execution_count": 127,
     "metadata": {},
     "output_type": "execute_result"
    }
   ],
   "source": [
    "pd.to_datetime(new_time).dt.strftime(\"%S\")\n",
    "#%S gives second"
   ]
  },
  {
   "cell_type": "code",
   "execution_count": null,
   "id": "7e9cfb24-f9f7-4530-8abb-44d056f1540e",
   "metadata": {},
   "outputs": [],
   "source": []
  }
 ],
 "metadata": {
  "kernelspec": {
   "display_name": "Python 3 (ipykernel)",
   "language": "python",
   "name": "python3"
  },
  "language_info": {
   "codemirror_mode": {
    "name": "ipython",
    "version": 3
   },
   "file_extension": ".py",
   "mimetype": "text/x-python",
   "name": "python",
   "nbconvert_exporter": "python",
   "pygments_lexer": "ipython3",
   "version": "3.9.13"
  }
 },
 "nbformat": 4,
 "nbformat_minor": 5
}
